{
 "cells": [
  {
   "cell_type": "code",
   "execution_count": 1,
   "metadata": {},
   "outputs": [],
   "source": [
    "import flashbax as fbx\n",
    "import pandas as pd\n",
    "from typing import NamedTuple\n",
    "from tqdm.auto import tqdm\n",
    "import haiku as hk\n",
    "import jax\n",
    "from jax import random, jit, vmap, tree_map, lax\n",
    "from jax_tqdm import loop_tqdm\n",
    "import jax.numpy as jnp\n",
    "import plotly.express as px\n",
    "import optax\n",
    "import rlax\n",
    "import chex\n",
    "import gymnax"
   ]
  },
  {
   "cell_type": "markdown",
   "metadata": {},
   "source": [
    "### ***Data Structures***"
   ]
  },
  {
   "cell_type": "code",
   "execution_count": 2,
   "metadata": {},
   "outputs": [],
   "source": [
    "def get_network_fn(num_outputs: int):\n",
    "    \"\"\"Define a fully connected multi-layer haiku network.\"\"\"\n",
    "\n",
    "    def network_fn(obs: chex.Array, rng: chex.PRNGKey) -> chex.Array:\n",
    "        conv_layer = hk.Conv2D(\n",
    "            output_channels=16,\n",
    "            kernel_shape=3,\n",
    "            stride=1,\n",
    "        )\n",
    "\n",
    "        fc_layer = hk.nets.MLP(\n",
    "            output_sizes=[128, num_outputs],\n",
    "            activation=jax.nn.leaky_relu,\n",
    "            activate_final=False,\n",
    "        )\n",
    "\n",
    "        x = conv_layer(obs)\n",
    "        x = jax.nn.leaky_relu(x)\n",
    "        x = x.reshape(-1)\n",
    "        return fc_layer(x)\n",
    "\n",
    "    return hk.without_apply_rng(hk.transform(network_fn))\n",
    "\n",
    "\n",
    "class TrainState(NamedTuple):\n",
    "    params: hk.Params\n",
    "    target_params: hk.Params\n",
    "    opt_state: optax.OptState\n",
    "\n",
    "\n",
    "@chex.dataclass(frozen=True)\n",
    "class TimeStep:\n",
    "    observation: chex.Array\n",
    "    action: chex.Array\n",
    "    discount: chex.Array\n",
    "    reward: chex.Array"
   ]
  },
  {
   "cell_type": "code",
   "execution_count": 5,
   "metadata": {},
   "outputs": [],
   "source": [
    "# We specify our parameters\n",
    "env_id = \"Asterix-MinAtar\"\n",
    "seed = 1\n",
    "num_envs = 1\n",
    "\n",
    "total_timesteps = 50_000\n",
    "learning_starts = 1_000\n",
    "train_frequency = 5\n",
    "target_network_frequency = 500\n",
    "\n",
    "tau = 1.0\n",
    "learning_rate = 1e-3\n",
    "start_e = 1.0\n",
    "end_e = 0.01\n",
    "exploration_fraction = 0.5\n",
    "gamma = 0.99\n",
    "\n",
    "buffer_params = {\n",
    "    \"max_length\": 50_000,\n",
    "    \"min_length\": 128,\n",
    "    \"sample_batch_size\": 128,\n",
    "    \"add_sequences\": False,\n",
    "    \"add_batch_size\": None,\n",
    "}"
   ]
  },
  {
   "cell_type": "code",
   "execution_count": 6,
   "metadata": {},
   "outputs": [],
   "source": [
    "env, env_params = gymnax.make(env_id)\n",
    "num_actions = env.num_actions"
   ]
  },
  {
   "cell_type": "markdown",
   "metadata": {},
   "source": [
    "### ***DQN and Optimizer initialization***"
   ]
  },
  {
   "cell_type": "code",
   "execution_count": 7,
   "metadata": {},
   "outputs": [
    {
     "name": "stderr",
     "output_type": "stream",
     "text": [
      "c:\\Users\\ryanp\\anaconda3\\lib\\site-packages\\jax\\_src\\ops\\scatter.py:96: FutureWarning: scatter inputs have incompatible types: cannot safely cast value from dtype=int32 to dtype=bool with jax_numpy_dtype_promotion='standard'. In future JAX releases this will result in an error.\n",
      "  warnings.warn(\n"
     ]
    }
   ],
   "source": [
    "key = random.PRNGKey(seed)\n",
    "key, q_key = random.split(key, 2)\n",
    "\n",
    "q_network = get_network_fn(num_actions)\n",
    "optim = optax.adam(learning_rate=learning_rate)\n",
    "\n",
    "dummy_obs, dummy_env_state = env.reset(key)\n",
    "params = q_network.init(q_key, dummy_obs.astype(jnp.float32), None)\n",
    "opt_state = optim.init(params)\n",
    "q_state = TrainState(\n",
    "    params=params,\n",
    "    target_params=params,\n",
    "    opt_state=opt_state,\n",
    ")"
   ]
  },
  {
   "cell_type": "markdown",
   "metadata": {},
   "source": [
    "### ***Flashbax Buffer initialization***"
   ]
  },
  {
   "cell_type": "code",
   "execution_count": 8,
   "metadata": {},
   "outputs": [
    {
     "name": "stderr",
     "output_type": "stream",
     "text": [
      "c:\\Users\\ryanp\\anaconda3\\lib\\site-packages\\flashbax\\buffers\\trajectory_buffer.py:473: UserWarning: Setting max_size dynamically sets the `max_length_time_axis` to be `max_size`//`add_batch_size = 50000`.This allows one to control exactly how many timesteps are stored in the buffer.Note that this overrides the `max_length_time_axis` argument.\n",
      "  warnings.warn(\n"
     ]
    }
   ],
   "source": [
    "buffer = fbx.make_flat_buffer(**buffer_params)\n",
    "buffer = buffer.replace(\n",
    "    init=jax.jit(buffer.init),\n",
    "    add=jax.jit(buffer.add, donate_argnums=0),\n",
    "    sample=jax.jit(buffer.sample),\n",
    "    can_sample=jax.jit(buffer.can_sample),\n",
    ")\n",
    "\n",
    "dummy_timestep = TimeStep(\n",
    "    observation=dummy_obs,\n",
    "    action=jnp.int32(0),\n",
    "    reward=jnp.float32(0.0),\n",
    "    discount=jnp.float32(0.0),\n",
    ")\n",
    "buffer_state = buffer.init(dummy_timestep)"
   ]
  },
  {
   "cell_type": "code",
   "execution_count": 9,
   "metadata": {},
   "outputs": [],
   "source": [
    "def linear_schedule(start_e: float, end_e: float, duration: int, t: int):\n",
    "    \"\"\"Linear schedule function for the epsilon greedy exploration.\"\"\"\n",
    "    slope = (end_e - start_e) / duration\n",
    "    return jnp.maximum(slope * t + start_e, end_e)\n",
    "\n",
    "\n",
    "@jit\n",
    "def update(q_state: TrainState, batch: TimeStep):\n",
    "    \"\"\"\n",
    "    Computes the updated model parameters and optimizer states\n",
    "    for a batch of experience.\n",
    "    \"\"\"\n",
    "\n",
    "    def batch_apply(params: dict, observations: jnp.ndarray):\n",
    "        return vmap(q_network.apply, in_axes=(None, 0, None))(\n",
    "            params, observations, None\n",
    "        )\n",
    "\n",
    "    def loss_fn(params: dict, target_params: dict, batch):\n",
    "        \"\"\"Computes the Q-learning TD error for a batch of timesteps\"\"\"\n",
    "        q_tm1 = batch_apply(params, batch.first.observation)\n",
    "        a_tm1 = batch.first.action\n",
    "        r_t = batch.first.reward\n",
    "        d_t = batch.first.discount * gamma\n",
    "        q_t = batch_apply(target_params, batch.second.observation)\n",
    "        return jnp.mean(jnp.square(vmap(rlax.q_learning)(q_tm1, a_tm1, r_t, d_t, q_t)))\n",
    "\n",
    "    loss, grads = jax.value_and_grad(loss_fn)(\n",
    "        q_state.params, q_state.target_params, batch\n",
    "    )\n",
    "    updates, new_opt_state = optim.update(grads, q_state.opt_state)\n",
    "    new_params = optax.apply_updates(q_state.params, updates)\n",
    "    q_state = q_state._replace(params=new_params, opt_state=new_opt_state)\n",
    "\n",
    "    return loss, q_state\n",
    "\n",
    "\n",
    "@jit\n",
    "def action_select_fn(q_state: TrainState, obs: TimeStep):\n",
    "    q_values = q_network.apply(q_state.params, obs, None)\n",
    "    action = jnp.argmax(q_values, axis=-1)\n",
    "\n",
    "    return action\n",
    "\n",
    "\n",
    "@jit\n",
    "def perform_update(\n",
    "    q_state: TrainState,\n",
    "    buffer_state,\n",
    "    sample_key: random.PRNGKey,\n",
    "):\n",
    "    data = buffer.sample(buffer_state, sample_key)\n",
    "    loss, q_state = update(q_state, data.experience)\n",
    "\n",
    "    return loss, q_state"
   ]
  },
  {
   "cell_type": "code",
   "execution_count": 10,
   "metadata": {},
   "outputs": [
    {
     "name": "stderr",
     "output_type": "stream",
     "text": [
      "c:\\Users\\ryanp\\anaconda3\\lib\\site-packages\\jax\\_src\\numpy\\array_methods.py:66: UserWarning: Explicitly requested dtype <class 'jax.numpy.int64'> requested in astype is not available, and will be truncated to dtype int32. To enable more dtypes, set the jax_enable_x64 configuration option or the JAX_ENABLE_X64 shell environment variable. See https://github.com/google/jax#current-gotchas for more.\n",
      "  return lax_numpy.astype(arr, dtype)\n",
      "c:\\Users\\ryanp\\anaconda3\\lib\\site-packages\\jax\\_src\\ops\\scatter.py:96: FutureWarning: scatter inputs have incompatible types: cannot safely cast value from dtype=int32 to dtype=bool with jax_numpy_dtype_promotion='standard'. In future JAX releases this will result in an error.\n",
      "  warnings.warn(\n"
     ]
    },
    {
     "data": {
      "application/vnd.jupyter.widget-view+json": {
       "model_id": "87d9df56b2344d3b9886f843839f66f4",
       "version_major": 2,
       "version_minor": 0
      },
      "text/plain": [
       "  0%|          | 0/10000 [00:00<?, ?it/s]"
      ]
     },
     "metadata": {},
     "output_type": "display_data"
    }
   ],
   "source": [
    "def update_step(\n",
    "    current_step,\n",
    "    learning_starts,\n",
    "    train_frequency,\n",
    "    buffer_state,\n",
    "    key,\n",
    "    q_state,\n",
    "    target_network_frequency,\n",
    "    tau,\n",
    "):\n",
    "    def train_update_fn(args):\n",
    "        key, q_state, buffer_state = args\n",
    "        key, sample_key = jax.random.split(key)\n",
    "        loss, q_state = perform_update(q_state, buffer_state, sample_key)\n",
    "        return loss, q_state\n",
    "\n",
    "    def no_train_update_fn(args):\n",
    "        \"\"\"Bypasses the update step\"\"\"\n",
    "        key, q_state, buffer_state = args\n",
    "        return 0.0, q_state\n",
    "\n",
    "    def update_target_network_fn(q_state):\n",
    "        q_state = q_state._replace(\n",
    "            target_params=optax.incremental_update(\n",
    "                q_state.params, q_state.target_params, tau\n",
    "            )\n",
    "        )\n",
    "        return q_state\n",
    "\n",
    "    def no_update_target_network_fn(q_state):\n",
    "        \"\"\"Bypasses the target network update\"\"\"\n",
    "        return q_state\n",
    "\n",
    "    # Check for training condition\n",
    "    loss, q_state = lax.cond(\n",
    "        (current_step > learning_starts)\n",
    "        & (current_step % train_frequency == 0)\n",
    "        & buffer.can_sample(buffer_state),\n",
    "        train_update_fn,\n",
    "        no_train_update_fn,\n",
    "        operand=(key, q_state, buffer_state),\n",
    "    )\n",
    "\n",
    "    # Check for target network update condition\n",
    "    q_state = lax.cond(\n",
    "        current_step % target_network_frequency == 0,\n",
    "        update_target_network_fn,\n",
    "        no_update_target_network_fn,\n",
    "        operand=q_state,\n",
    "    )\n",
    "\n",
    "    return loss, q_state\n",
    "\n",
    "\n",
    "def rollout(\n",
    "    rng: random.PRNGKey,\n",
    "    total_timesteps: int,\n",
    "    q_state: TrainState,\n",
    "    buffer_state,\n",
    "):\n",
    "    def _conditional_reset(key):\n",
    "        key, subkey = random.split(key)\n",
    "        obs, env_state = env.reset(subkey)\n",
    "        return obs, env_state\n",
    "\n",
    "    @jit\n",
    "    @loop_tqdm(total_timesteps)\n",
    "    def _fori_body(current_step: int, val: tuple):\n",
    "        (obs, env_state, q_state, buffer_state, rng, logs) = val\n",
    "        rng, env_key, action_key, step_key = random.split(rng, num=4)\n",
    "        epsilon = linear_schedule(\n",
    "            start_e, end_e, exploration_fraction * total_timesteps, current_step\n",
    "        )\n",
    "\n",
    "        explore = random.uniform(env_key) < epsilon\n",
    "        action = lax.cond(\n",
    "            explore,\n",
    "            lambda _: env.action_space(env_params).sample(action_key),\n",
    "            lambda _: action_select_fn(q_state, obs),\n",
    "            operand=None,\n",
    "        )\n",
    "        obs, env_state, reward, done, _ = env.step(step_key, env_state, action)\n",
    "\n",
    "        logs[\"rewards\"] = logs[\"rewards\"].at[current_step].set(reward)\n",
    "        logs[\"dones\"] = logs[\"dones\"].at[current_step].set(done)\n",
    "\n",
    "        timestep = TimeStep(\n",
    "            observation=obs,\n",
    "            action=action,\n",
    "            reward=reward,\n",
    "            discount=lax.select(done, 0.0, 0.99),\n",
    "        )\n",
    "        buffer_state = buffer.add(buffer_state, timestep)\n",
    "\n",
    "        loss, q_state = update_step(\n",
    "            current_step,\n",
    "            learning_starts,\n",
    "            train_frequency,\n",
    "            buffer_state,\n",
    "            rng,\n",
    "            q_state,\n",
    "            target_network_frequency,\n",
    "            tau,\n",
    "        )\n",
    "\n",
    "        # reset if done\n",
    "        obs, env_state = lax.cond(\n",
    "            done,\n",
    "            lambda _: _conditional_reset(env_key),\n",
    "            lambda _: (obs, env_state),\n",
    "            operand=None,\n",
    "        )\n",
    "\n",
    "        return (obs, env_state, q_state, buffer_state, rng, logs)\n",
    "\n",
    "    logs = {\n",
    "        \"rewards\": jnp.zeros(total_timesteps),\n",
    "        \"dones\": jnp.zeros(total_timesteps),\n",
    "    }\n",
    "    obs, env_state = env.reset(rng)\n",
    "    init_val = (obs, env_state, q_state, buffer_state, rng, logs)\n",
    "    (obs, env_state, q_state, buffer_state, rng, logs) = lax.fori_loop(\n",
    "        0, total_timesteps, _fori_body, init_val\n",
    "    )\n",
    "\n",
    "    return q_state, buffer_state, logs\n",
    "\n",
    "\n",
    "q_state, buffer_state, logs = rollout(random.PRNGKey(0), 10_000, q_state, buffer_state)"
   ]
  },
  {
   "cell_type": "code",
   "execution_count": 11,
   "metadata": {},
   "outputs": [
    {
     "data": {
      "application/vnd.plotly.v1+json": {
       "config": {
        "plotlyServerURL": "https://plotly.com"
       },
       "data": [
        {
         "hovertemplate": "episode=%{x}<br>reward=%{y}<extra></extra>",
         "legendgroup": "",
         "line": {
          "color": "#636efa",
          "dash": "solid"
         },
         "marker": {
          "symbol": "circle"
         },
         "mode": "lines",
         "name": "",
         "orientation": "v",
         "showlegend": false,
         "type": "scatter",
         "x": [
          0,
          1,
          2,
          3,
          4,
          5,
          6,
          7,
          8,
          9,
          10,
          11,
          12,
          13,
          14,
          15,
          16,
          17,
          18,
          19,
          20,
          21,
          22,
          23,
          24,
          25,
          26,
          27,
          28,
          29,
          30,
          31,
          32,
          33,
          34,
          35,
          36,
          37,
          38,
          39,
          40,
          41,
          42,
          43,
          44,
          45,
          46,
          47,
          48,
          49,
          50,
          51,
          52,
          53,
          54,
          55,
          56,
          57,
          58,
          59,
          60,
          61,
          62,
          63,
          64,
          65,
          66,
          67,
          68,
          69,
          70,
          71,
          72,
          73,
          74,
          75,
          76,
          77,
          78,
          79,
          80,
          81,
          82,
          83,
          84,
          85,
          86,
          87,
          88,
          89,
          90,
          91,
          92,
          93,
          94,
          95,
          96,
          97,
          98,
          99,
          100,
          101,
          102,
          103,
          104,
          105,
          106,
          107,
          108,
          109,
          110,
          111,
          112,
          113,
          114,
          115,
          116,
          117,
          118,
          119,
          120,
          121,
          122,
          123,
          124,
          125,
          126,
          127,
          128,
          129,
          130,
          131,
          132,
          133,
          134,
          135,
          136,
          137
         ],
         "xaxis": "x",
         "y": [
          1,
          1,
          0,
          1,
          0,
          2,
          1,
          0,
          2,
          0,
          1,
          0,
          1,
          0,
          0,
          1,
          0,
          0,
          0,
          0,
          0,
          0,
          0,
          1,
          0,
          1,
          3,
          1,
          1,
          0,
          0,
          0,
          1,
          0,
          0,
          0,
          0,
          0,
          2,
          2,
          0,
          0,
          0,
          0,
          1,
          0,
          0,
          0,
          1,
          1,
          0,
          0,
          0,
          0,
          0,
          1,
          0,
          1,
          0,
          1,
          0,
          2,
          0,
          1,
          2,
          0,
          0,
          0,
          2,
          0,
          0,
          1,
          0,
          0,
          0,
          0,
          0,
          0,
          0,
          0,
          0,
          2,
          0,
          0,
          1,
          2,
          0,
          1,
          2,
          0,
          0,
          0,
          0,
          1,
          0,
          0,
          0,
          0,
          1,
          0,
          0,
          1,
          0,
          1,
          0,
          0,
          0,
          0,
          2,
          0,
          0,
          2,
          0,
          0,
          0,
          0,
          0,
          0,
          0,
          2,
          1,
          0,
          0,
          0,
          1,
          0,
          0,
          0,
          1,
          0,
          1,
          0,
          0,
          0,
          0,
          0,
          1,
          0
         ],
         "yaxis": "y"
        }
       ],
       "layout": {
        "legend": {
         "tracegroupgap": 0
        },
        "template": {
         "data": {
          "bar": [
           {
            "error_x": {
             "color": "#2a3f5f"
            },
            "error_y": {
             "color": "#2a3f5f"
            },
            "marker": {
             "line": {
              "color": "#E5ECF6",
              "width": 0.5
             },
             "pattern": {
              "fillmode": "overlay",
              "size": 10,
              "solidity": 0.2
             }
            },
            "type": "bar"
           }
          ],
          "barpolar": [
           {
            "marker": {
             "line": {
              "color": "#E5ECF6",
              "width": 0.5
             },
             "pattern": {
              "fillmode": "overlay",
              "size": 10,
              "solidity": 0.2
             }
            },
            "type": "barpolar"
           }
          ],
          "carpet": [
           {
            "aaxis": {
             "endlinecolor": "#2a3f5f",
             "gridcolor": "white",
             "linecolor": "white",
             "minorgridcolor": "white",
             "startlinecolor": "#2a3f5f"
            },
            "baxis": {
             "endlinecolor": "#2a3f5f",
             "gridcolor": "white",
             "linecolor": "white",
             "minorgridcolor": "white",
             "startlinecolor": "#2a3f5f"
            },
            "type": "carpet"
           }
          ],
          "choropleth": [
           {
            "colorbar": {
             "outlinewidth": 0,
             "ticks": ""
            },
            "type": "choropleth"
           }
          ],
          "contour": [
           {
            "colorbar": {
             "outlinewidth": 0,
             "ticks": ""
            },
            "colorscale": [
             [
              0,
              "#0d0887"
             ],
             [
              0.1111111111111111,
              "#46039f"
             ],
             [
              0.2222222222222222,
              "#7201a8"
             ],
             [
              0.3333333333333333,
              "#9c179e"
             ],
             [
              0.4444444444444444,
              "#bd3786"
             ],
             [
              0.5555555555555556,
              "#d8576b"
             ],
             [
              0.6666666666666666,
              "#ed7953"
             ],
             [
              0.7777777777777778,
              "#fb9f3a"
             ],
             [
              0.8888888888888888,
              "#fdca26"
             ],
             [
              1,
              "#f0f921"
             ]
            ],
            "type": "contour"
           }
          ],
          "contourcarpet": [
           {
            "colorbar": {
             "outlinewidth": 0,
             "ticks": ""
            },
            "type": "contourcarpet"
           }
          ],
          "heatmap": [
           {
            "colorbar": {
             "outlinewidth": 0,
             "ticks": ""
            },
            "colorscale": [
             [
              0,
              "#0d0887"
             ],
             [
              0.1111111111111111,
              "#46039f"
             ],
             [
              0.2222222222222222,
              "#7201a8"
             ],
             [
              0.3333333333333333,
              "#9c179e"
             ],
             [
              0.4444444444444444,
              "#bd3786"
             ],
             [
              0.5555555555555556,
              "#d8576b"
             ],
             [
              0.6666666666666666,
              "#ed7953"
             ],
             [
              0.7777777777777778,
              "#fb9f3a"
             ],
             [
              0.8888888888888888,
              "#fdca26"
             ],
             [
              1,
              "#f0f921"
             ]
            ],
            "type": "heatmap"
           }
          ],
          "heatmapgl": [
           {
            "colorbar": {
             "outlinewidth": 0,
             "ticks": ""
            },
            "colorscale": [
             [
              0,
              "#0d0887"
             ],
             [
              0.1111111111111111,
              "#46039f"
             ],
             [
              0.2222222222222222,
              "#7201a8"
             ],
             [
              0.3333333333333333,
              "#9c179e"
             ],
             [
              0.4444444444444444,
              "#bd3786"
             ],
             [
              0.5555555555555556,
              "#d8576b"
             ],
             [
              0.6666666666666666,
              "#ed7953"
             ],
             [
              0.7777777777777778,
              "#fb9f3a"
             ],
             [
              0.8888888888888888,
              "#fdca26"
             ],
             [
              1,
              "#f0f921"
             ]
            ],
            "type": "heatmapgl"
           }
          ],
          "histogram": [
           {
            "marker": {
             "pattern": {
              "fillmode": "overlay",
              "size": 10,
              "solidity": 0.2
             }
            },
            "type": "histogram"
           }
          ],
          "histogram2d": [
           {
            "colorbar": {
             "outlinewidth": 0,
             "ticks": ""
            },
            "colorscale": [
             [
              0,
              "#0d0887"
             ],
             [
              0.1111111111111111,
              "#46039f"
             ],
             [
              0.2222222222222222,
              "#7201a8"
             ],
             [
              0.3333333333333333,
              "#9c179e"
             ],
             [
              0.4444444444444444,
              "#bd3786"
             ],
             [
              0.5555555555555556,
              "#d8576b"
             ],
             [
              0.6666666666666666,
              "#ed7953"
             ],
             [
              0.7777777777777778,
              "#fb9f3a"
             ],
             [
              0.8888888888888888,
              "#fdca26"
             ],
             [
              1,
              "#f0f921"
             ]
            ],
            "type": "histogram2d"
           }
          ],
          "histogram2dcontour": [
           {
            "colorbar": {
             "outlinewidth": 0,
             "ticks": ""
            },
            "colorscale": [
             [
              0,
              "#0d0887"
             ],
             [
              0.1111111111111111,
              "#46039f"
             ],
             [
              0.2222222222222222,
              "#7201a8"
             ],
             [
              0.3333333333333333,
              "#9c179e"
             ],
             [
              0.4444444444444444,
              "#bd3786"
             ],
             [
              0.5555555555555556,
              "#d8576b"
             ],
             [
              0.6666666666666666,
              "#ed7953"
             ],
             [
              0.7777777777777778,
              "#fb9f3a"
             ],
             [
              0.8888888888888888,
              "#fdca26"
             ],
             [
              1,
              "#f0f921"
             ]
            ],
            "type": "histogram2dcontour"
           }
          ],
          "mesh3d": [
           {
            "colorbar": {
             "outlinewidth": 0,
             "ticks": ""
            },
            "type": "mesh3d"
           }
          ],
          "parcoords": [
           {
            "line": {
             "colorbar": {
              "outlinewidth": 0,
              "ticks": ""
             }
            },
            "type": "parcoords"
           }
          ],
          "pie": [
           {
            "automargin": true,
            "type": "pie"
           }
          ],
          "scatter": [
           {
            "marker": {
             "colorbar": {
              "outlinewidth": 0,
              "ticks": ""
             }
            },
            "type": "scatter"
           }
          ],
          "scatter3d": [
           {
            "line": {
             "colorbar": {
              "outlinewidth": 0,
              "ticks": ""
             }
            },
            "marker": {
             "colorbar": {
              "outlinewidth": 0,
              "ticks": ""
             }
            },
            "type": "scatter3d"
           }
          ],
          "scattercarpet": [
           {
            "marker": {
             "colorbar": {
              "outlinewidth": 0,
              "ticks": ""
             }
            },
            "type": "scattercarpet"
           }
          ],
          "scattergeo": [
           {
            "marker": {
             "colorbar": {
              "outlinewidth": 0,
              "ticks": ""
             }
            },
            "type": "scattergeo"
           }
          ],
          "scattergl": [
           {
            "marker": {
             "colorbar": {
              "outlinewidth": 0,
              "ticks": ""
             }
            },
            "type": "scattergl"
           }
          ],
          "scattermapbox": [
           {
            "marker": {
             "colorbar": {
              "outlinewidth": 0,
              "ticks": ""
             }
            },
            "type": "scattermapbox"
           }
          ],
          "scatterpolar": [
           {
            "marker": {
             "colorbar": {
              "outlinewidth": 0,
              "ticks": ""
             }
            },
            "type": "scatterpolar"
           }
          ],
          "scatterpolargl": [
           {
            "marker": {
             "colorbar": {
              "outlinewidth": 0,
              "ticks": ""
             }
            },
            "type": "scatterpolargl"
           }
          ],
          "scatterternary": [
           {
            "marker": {
             "colorbar": {
              "outlinewidth": 0,
              "ticks": ""
             }
            },
            "type": "scatterternary"
           }
          ],
          "surface": [
           {
            "colorbar": {
             "outlinewidth": 0,
             "ticks": ""
            },
            "colorscale": [
             [
              0,
              "#0d0887"
             ],
             [
              0.1111111111111111,
              "#46039f"
             ],
             [
              0.2222222222222222,
              "#7201a8"
             ],
             [
              0.3333333333333333,
              "#9c179e"
             ],
             [
              0.4444444444444444,
              "#bd3786"
             ],
             [
              0.5555555555555556,
              "#d8576b"
             ],
             [
              0.6666666666666666,
              "#ed7953"
             ],
             [
              0.7777777777777778,
              "#fb9f3a"
             ],
             [
              0.8888888888888888,
              "#fdca26"
             ],
             [
              1,
              "#f0f921"
             ]
            ],
            "type": "surface"
           }
          ],
          "table": [
           {
            "cells": {
             "fill": {
              "color": "#EBF0F8"
             },
             "line": {
              "color": "white"
             }
            },
            "header": {
             "fill": {
              "color": "#C8D4E3"
             },
             "line": {
              "color": "white"
             }
            },
            "type": "table"
           }
          ]
         },
         "layout": {
          "annotationdefaults": {
           "arrowcolor": "#2a3f5f",
           "arrowhead": 0,
           "arrowwidth": 1
          },
          "autotypenumbers": "strict",
          "coloraxis": {
           "colorbar": {
            "outlinewidth": 0,
            "ticks": ""
           }
          },
          "colorscale": {
           "diverging": [
            [
             0,
             "#8e0152"
            ],
            [
             0.1,
             "#c51b7d"
            ],
            [
             0.2,
             "#de77ae"
            ],
            [
             0.3,
             "#f1b6da"
            ],
            [
             0.4,
             "#fde0ef"
            ],
            [
             0.5,
             "#f7f7f7"
            ],
            [
             0.6,
             "#e6f5d0"
            ],
            [
             0.7,
             "#b8e186"
            ],
            [
             0.8,
             "#7fbc41"
            ],
            [
             0.9,
             "#4d9221"
            ],
            [
             1,
             "#276419"
            ]
           ],
           "sequential": [
            [
             0,
             "#0d0887"
            ],
            [
             0.1111111111111111,
             "#46039f"
            ],
            [
             0.2222222222222222,
             "#7201a8"
            ],
            [
             0.3333333333333333,
             "#9c179e"
            ],
            [
             0.4444444444444444,
             "#bd3786"
            ],
            [
             0.5555555555555556,
             "#d8576b"
            ],
            [
             0.6666666666666666,
             "#ed7953"
            ],
            [
             0.7777777777777778,
             "#fb9f3a"
            ],
            [
             0.8888888888888888,
             "#fdca26"
            ],
            [
             1,
             "#f0f921"
            ]
           ],
           "sequentialminus": [
            [
             0,
             "#0d0887"
            ],
            [
             0.1111111111111111,
             "#46039f"
            ],
            [
             0.2222222222222222,
             "#7201a8"
            ],
            [
             0.3333333333333333,
             "#9c179e"
            ],
            [
             0.4444444444444444,
             "#bd3786"
            ],
            [
             0.5555555555555556,
             "#d8576b"
            ],
            [
             0.6666666666666666,
             "#ed7953"
            ],
            [
             0.7777777777777778,
             "#fb9f3a"
            ],
            [
             0.8888888888888888,
             "#fdca26"
            ],
            [
             1,
             "#f0f921"
            ]
           ]
          },
          "colorway": [
           "#636efa",
           "#EF553B",
           "#00cc96",
           "#ab63fa",
           "#FFA15A",
           "#19d3f3",
           "#FF6692",
           "#B6E880",
           "#FF97FF",
           "#FECB52"
          ],
          "font": {
           "color": "#2a3f5f"
          },
          "geo": {
           "bgcolor": "white",
           "lakecolor": "white",
           "landcolor": "#E5ECF6",
           "showlakes": true,
           "showland": true,
           "subunitcolor": "white"
          },
          "hoverlabel": {
           "align": "left"
          },
          "hovermode": "closest",
          "mapbox": {
           "style": "light"
          },
          "paper_bgcolor": "white",
          "plot_bgcolor": "#E5ECF6",
          "polar": {
           "angularaxis": {
            "gridcolor": "white",
            "linecolor": "white",
            "ticks": ""
           },
           "bgcolor": "#E5ECF6",
           "radialaxis": {
            "gridcolor": "white",
            "linecolor": "white",
            "ticks": ""
           }
          },
          "scene": {
           "xaxis": {
            "backgroundcolor": "#E5ECF6",
            "gridcolor": "white",
            "gridwidth": 2,
            "linecolor": "white",
            "showbackground": true,
            "ticks": "",
            "zerolinecolor": "white"
           },
           "yaxis": {
            "backgroundcolor": "#E5ECF6",
            "gridcolor": "white",
            "gridwidth": 2,
            "linecolor": "white",
            "showbackground": true,
            "ticks": "",
            "zerolinecolor": "white"
           },
           "zaxis": {
            "backgroundcolor": "#E5ECF6",
            "gridcolor": "white",
            "gridwidth": 2,
            "linecolor": "white",
            "showbackground": true,
            "ticks": "",
            "zerolinecolor": "white"
           }
          },
          "shapedefaults": {
           "line": {
            "color": "#2a3f5f"
           }
          },
          "ternary": {
           "aaxis": {
            "gridcolor": "white",
            "linecolor": "white",
            "ticks": ""
           },
           "baxis": {
            "gridcolor": "white",
            "linecolor": "white",
            "ticks": ""
           },
           "bgcolor": "#E5ECF6",
           "caxis": {
            "gridcolor": "white",
            "linecolor": "white",
            "ticks": ""
           }
          },
          "title": {
           "x": 0.05
          },
          "xaxis": {
           "automargin": true,
           "gridcolor": "white",
           "linecolor": "white",
           "ticks": "",
           "title": {
            "standoff": 15
           },
           "zerolinecolor": "white",
           "zerolinewidth": 2
          },
          "yaxis": {
           "automargin": true,
           "gridcolor": "white",
           "linecolor": "white",
           "ticks": "",
           "title": {
            "standoff": 15
           },
           "zerolinecolor": "white",
           "zerolinewidth": 2
          }
         }
        },
        "title": {
         "text": "Performances of DQN on Asterix-MinAtar"
        },
        "xaxis": {
         "anchor": "y",
         "domain": [
          0,
          1
         ],
         "title": {
          "text": "episode"
         }
        },
        "yaxis": {
         "anchor": "x",
         "domain": [
          0,
          1
         ],
         "title": {
          "text": "reward"
         }
        }
       }
      }
     },
     "metadata": {},
     "output_type": "display_data"
    }
   ],
   "source": [
    "df = pd.DataFrame(\n",
    "    data={\n",
    "        \"episode\": logs[\"dones\"].cumsum(),\n",
    "        \"reward\": logs[\"rewards\"],\n",
    "    },\n",
    ")\n",
    "df[\"episode\"] = df[\"episode\"].shift().fillna(0)\n",
    "episodes_df = df.groupby(\"episode\").agg(\"sum\")\n",
    "\n",
    "px.line(\n",
    "    episodes_df,\n",
    "    y=\"reward\",\n",
    "    title=f\"Performances of DQN on {env_id}\",\n",
    ")"
   ]
  }
 ],
 "metadata": {
  "kernelspec": {
   "display_name": "jax-rl-KPtyfD6I-py3.10",
   "language": "python",
   "name": "python3"
  },
  "language_info": {
   "codemirror_mode": {
    "name": "ipython",
    "version": 3
   },
   "file_extension": ".py",
   "mimetype": "text/x-python",
   "name": "python",
   "nbconvert_exporter": "python",
   "pygments_lexer": "ipython3",
   "version": "3.9.12"
  }
 },
 "nbformat": 4,
 "nbformat_minor": 2
}

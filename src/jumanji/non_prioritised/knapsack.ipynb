{
  "cells": [
    {
      "cell_type": "markdown",
      "metadata": {
        "id": "7II68klE8rVe"
      },
      "source": [
        "# Distributed DQN Anakin Agent in `Jumanji` using `flashbax`\n",
        "### [![Colab](https://colab.research.google.com/assets/colab-badge.svg)](https://colab.research.google.com/github/instadeepai/flashbax/blob/main/examples/anakin_dqn_example.ipynb)\n",
        "\n",
        "Adapted from [Gymnax Example](https://colab.research.google.com/github/RobertTLange/gymnax/blob/main/examples/01_anakin.ipynb) and DeepMind's [Example Colab](https://colab.research.google.com/drive/1974D-qP17fd5mLxy6QZv-ic4yxlPJp-G?usp=sharing#scrollTo=lhnJkrYLOvcs)"
      ]
    },
    {
      "cell_type": "code",
      "execution_count": 1,
      "metadata": {
        "id": "n5mRcoAF8rVj",
        "outputId": "877e7822-162c-499c-a9e6-d0a7838faa4f"
      },
      "outputs": [
        {
          "name": "stdout",
          "output_type": "stream",
          "text": [
            "The following devices are available:  [CpuDevice(id=0)]\n"
          ]
        }
      ],
      "source": [
        "import flashbax as fbx\n",
        "from matplotlib import pyplot as plt\n",
        "import seaborn as sns\n",
        "import numpy as np\n",
        "import jax\n",
        "from jax import random, lax\n",
        "from jax import numpy as jnp\n",
        "from tqdm.auto import tqdm\n",
        "import jax.numpy as jnp\n",
        "import haiku as hk\n",
        "import optax\n",
        "import rlax\n",
        "import timeit\n",
        "import distrax\n",
        "import chex\n",
        "from jumanji.wrappers import AutoResetWrapper\n",
        "import jumanji\n",
        "\n",
        "print(\"The following devices are available: \", jax.devices())"
      ]
    },
    {
      "cell_type": "markdown",
      "metadata": {},
      "source": [
        "## ***Observation***\n",
        "The observation given to the agent provides information regarding the weights and the values of all the items, as well as, which items have been packed into the knapsack.\n",
        "* ``weights``: jax array (float) of shape (num_items,), array of weights of the items to be packed into the knapsack.\n",
        "* ``values``: jax array (float) of shape (num_items,), array of values of the items to be packed into the knapsack.\n",
        "* ``packed_items``: jax array (bool) of shape (num_items,), array of binary values denoting which items are already packed into the knapsack.\n",
        "* ``action_mask``: jax array (bool) of shape (num_items,), array of binary values denoting which items can be packed into the knapsack."
      ]
    },
    {
      "cell_type": "code",
      "execution_count": 2,
      "metadata": {
        "id": "aM1GJ_Pf8rVk"
      },
      "outputs": [],
      "source": [
        "@chex.dataclass(frozen=True)\n",
        "class TimeStep:\n",
        "    observation: chex.Array\n",
        "    action: chex.Array\n",
        "    discount: chex.Array\n",
        "    reward: chex.Array\n",
        "\n",
        "\n",
        "@chex.dataclass(frozen=True)\n",
        "class Params:\n",
        "    online: hk.Params\n",
        "    target: hk.Params\n",
        "    update_count: int\n",
        "\n",
        "def process_observation(timestep: TimeStep) -> jnp.ndarray:\n",
        "    \"\"\"Concatenates and flatten the observation\"\"\"\n",
        "    return jnp.concatenate(\n",
        "        [\n",
        "            timestep.observation.weights,\n",
        "            timestep.observation.values,\n",
        "            timestep.observation.packed_items,\n",
        "            timestep.observation.action_mask,\n",
        "        ]\n",
        "    )"
      ]
    },
    {
      "cell_type": "code",
      "execution_count": 3,
      "metadata": {},
      "outputs": [],
      "source": [
        "def get_network_fn(num_outputs: int):\n",
        "    def network_fn(obs: chex.Array) -> chex.Array:\n",
        "        \"\"\"Outputs action logits.\"\"\"\n",
        "        network = hk.Sequential(\n",
        "            [\n",
        "            hk.Linear(256),\n",
        "            jax.nn.relu,\n",
        "            hk.Linear(128),\n",
        "            jax.nn.relu,\n",
        "            hk.Linear(num_outputs),\n",
        "            ]\n",
        "        )\n",
        "        return network(obs)\n",
        "\n",
        "    return hk.without_apply_rng(hk.transform(network_fn))\n",
        "\n",
        "def get_learner_fn(\n",
        "    env,\n",
        "    forward_pass,\n",
        "    buffer_fn,\n",
        "    opt_update,\n",
        "    rollout_len,\n",
        "    agent_discount,\n",
        "    iterations,\n",
        "    target_period,\n",
        "    epsilon_schedule_fn,\n",
        "    sgd_steps_per_rollout,\n",
        "):\n",
        "    \"\"\"Returns a learner function that can be used to update parameters.\"\"\"\n",
        "\n",
        "    def rollout_fn(params_state, outer_rng, env_state, env_timestep):\n",
        "        \"\"\"Collects a trajectory from the environment.\"\"\"\n",
        "        def step_fn(env_data, rng):\n",
        "            \"\"\"Steps the environment and collects transition data.\"\"\"\n",
        "            (env_state, env_timestep, params_state) = env_data\n",
        "            obs_tm1 = process_observation(env_timestep)\n",
        "            d_tm1 = env_timestep.discount\n",
        "            q_values_tm1 = forward_pass(params_state.online, jnp.expand_dims(obs_tm1, 0))\n",
        "            a_tm1_dist = distrax.EpsilonGreedy(preferences=q_values_tm1[0], epsilon=epsilon_schedule_fn(params_state.update_count))\n",
        "            a_tm1 = a_tm1_dist.sample(seed=rng)\n",
        "            new_env_state, new_env_timestep = env.step(env_state, a_tm1)  #\n",
        "            r_t = new_env_timestep.reward\n",
        "            return (\n",
        "                new_env_state,\n",
        "                new_env_timestep,\n",
        "                params_state,\n",
        "            ), TimeStep(  # return env state and transition data.\n",
        "                observation=obs_tm1, action=a_tm1, discount=d_tm1, reward=r_t\n",
        "            ) # We line up the observation with its discount, not the discount of the next observation as is usually seen.\n",
        "              # This is so that we know in a transition that discount[1] is the discount of the next observation.\n",
        "              # e.g. indexing is v[t] = reward[t] + discount[t+1]*value[t+1]\n",
        "              # Switching to Sutton and Barto's notation, we would have v[t] = reward[t+1] + discount[t+1]*value[t+1]\n",
        "              # To do this, we would add r_tm1 = env_timestep.reward to the TimeStep dataclass, not the new_env_timestep.reward\n",
        "\n",
        "        step_rngs = jax.random.split(outer_rng, rollout_len)\n",
        "        (env_state, env_timestep, params_state), rollout = lax.scan(\n",
        "            step_fn, (env_state, env_timestep, params_state), step_rngs\n",
        "        )  # trajectory.\n",
        "\n",
        "        return rollout, env_state, env_timestep\n",
        "\n",
        "    def loss_fn(params, target_params, batch):\n",
        "        \"\"\"Computes the loss for a single batch.\"\"\"\n",
        "        # For ease of reading\n",
        "        o_tm1 = batch.first.observation\n",
        "        a_tm1 = batch.first.action.astype(jnp.int32)\n",
        "        r_t = batch.first.reward\n",
        "        d_t = agent_discount * batch.second.discount\n",
        "        o_t = batch.second.observation\n",
        "        # Compute Q-values for current and next states.\n",
        "        q_tm1 = forward_pass(params, o_tm1)\n",
        "        q_t = forward_pass(target_params, o_t)\n",
        "        q_t_select = forward_pass(params, o_t)\n",
        "        # Compute the TD-error.\n",
        "        td_error = jax.vmap(\n",
        "            rlax.double_q_learning\n",
        "        )(  # compute multi-step temporal diff error.\n",
        "            q_tm1=q_tm1,  # predictions.\n",
        "            a_tm1=a_tm1,  # actions.\n",
        "            r_t=r_t,  # rewards.\n",
        "            discount_t=d_t,  # discount.\n",
        "            q_t_value=q_t,  # target values.\n",
        "            q_t_selector=q_t_select,  # selector values.\n",
        "        )\n",
        "        return jnp.mean(jnp.square(td_error))\n",
        "\n",
        "    def update_fn(\n",
        "        params_state: Params, buffer_state, opt_state, rng, env_state, env_timestep\n",
        "    ):\n",
        "        \"\"\"Updates the parameters of the agent.\"\"\"\n",
        "        rng, rollout_rng, update_rng = random.split(rng, 3)\n",
        "\n",
        "        data_rollout, new_env_state, new_env_timestep = rollout_fn(\n",
        "            params_state, rollout_rng, env_state, env_timestep\n",
        "        )  # collect trajectory from environment. This could be one step, or many steps.\n",
        "\n",
        "        buffer_state = buffer_fn.add(buffer_state, data_rollout)  # store trajectory in buffer.\n",
        "\n",
        "        def sgd_step(carry, rng):\n",
        "            \"\"\"Performs a single SGD step.\"\"\"\n",
        "            params_state, opt_state, buffer_state = carry\n",
        "\n",
        "            batch = buffer_fn.sample(buffer_state, rng).experience  # sample batch from buffer.\n",
        "\n",
        "            params, target_params = params_state.online, params_state.target\n",
        "            grads = jax.grad(loss_fn)(  # compute gradient on a single trajectory.\n",
        "                params, target_params, batch\n",
        "            )\n",
        "            grads = lax.pmean(grads, axis_name=\"j\")  # reduce mean across cores.\n",
        "            grads = lax.pmean(grads, axis_name=\"i\")  # reduce mean across batch.\n",
        "            updates, new_opt_state = opt_update(grads, opt_state)  # transform grads.\n",
        "            new_params = optax.apply_updates(params, updates)  # update parameters.\n",
        "            target_params = optax.periodic_update(  # update target parameters.\n",
        "                new_params, target_params, params_state.update_count + 1, target_period\n",
        "            )\n",
        "            new_params_state = Params(  # update parameters state.\n",
        "                online=new_params,\n",
        "                target=target_params,\n",
        "                update_count=params_state.update_count + 1,\n",
        "            )\n",
        "            return (new_params_state, new_opt_state, buffer_state), None\n",
        "\n",
        "        real_update_fn = lambda p_state, o_state, b_state, rng: jax.lax.scan(sgd_step, (p_state, o_state, b_state), jax.random.split(rng, sgd_steps_per_rollout))[0]\n",
        "        fake_update_fn = lambda p_state, o_state, b_state, _: (p_state, o_state, b_state)\n",
        "\n",
        "        new_params_state, new_opt_state, buffer_state = jax.lax.cond(  # conditional update.\n",
        "            buffer_fn.can_sample(buffer_state),  # if buffer can sample.\n",
        "            real_update_fn,  # perform update.\n",
        "            fake_update_fn,  # else do nothing.\n",
        "            params_state,\n",
        "            opt_state,\n",
        "            buffer_state,\n",
        "            update_rng,\n",
        "        )\n",
        "\n",
        "        return (\n",
        "            new_params_state,\n",
        "            buffer_state,\n",
        "            new_opt_state,\n",
        "            rng,\n",
        "            new_env_state,\n",
        "            new_env_timestep,\n",
        "        )\n",
        "\n",
        "    def learner_fn(\n",
        "        params_state: Params, buffer_state, opt_state, rngs, env_states, env_timesteps\n",
        "    ):\n",
        "        \"\"\"Performs multiple SGD steps.\"\"\"\n",
        "        batched_update_fn = jax.vmap(\n",
        "            update_fn, axis_name=\"j\"\n",
        "        )  # vectorize across batch.\n",
        "\n",
        "        def iterate_fn(_, val):  # repeat many times to avoid going back to Python.\n",
        "            params_state, buffer_state, opt_state, rngs, env_states, env_timesteps = val\n",
        "            return batched_update_fn(\n",
        "                params_state, buffer_state, opt_state, rngs, env_states, env_timesteps\n",
        "            )\n",
        "\n",
        "        return lax.fori_loop(\n",
        "            0,\n",
        "            iterations,\n",
        "            iterate_fn,\n",
        "            (params_state, buffer_state, opt_state, rngs, env_states, env_timesteps),\n",
        "        )\n",
        "\n",
        "    return learner_fn"
      ]
    },
    {
      "cell_type": "markdown",
      "metadata": {
        "id": "sWdQogrA8rVl"
      },
      "source": [
        "### Create Experiment Fns"
      ]
    },
    {
      "cell_type": "code",
      "execution_count": 4,
      "metadata": {
        "id": "g6yNZahR8rVl"
      },
      "outputs": [],
      "source": [
        "def set_up_experiment(\n",
        "    env,\n",
        "    batch_size,\n",
        "    step_size,\n",
        "    seed,\n",
        "    buffer_size,\n",
        "    epsilon_init,\n",
        "    epsilon_final,\n",
        "    epsilon_steps,\n",
        "):\n",
        "    \"\"\"Sets up the experiment.\"\"\"\n",
        "    cores_count = len(jax.devices())  # get available TPU cores.\n",
        "    network = get_network_fn(env.action_spec().num_values)  # define network.\n",
        "    optim = optax.adam(step_size)  # define optimiser.\n",
        "\n",
        "    rng, rng_e, rng_p = random.split(random.PRNGKey(seed), num=3)  # prng keys.\n",
        "    _, timestep = env.reset(rng_e)\n",
        "    obs = process_observation(timestep)\n",
        "    dummy_obs = jnp.expand_dims(obs, 0)  # dummy for net init.\n",
        "    params = network.init(rng_p, dummy_obs)  # initialise params.\n",
        "    opt_state = optim.init(params)  # initialise optimiser stats.\n",
        "    buffer_fn = fbx.make_flat_buffer(\n",
        "        max_length=buffer_size,\n",
        "        min_length=batch_size,\n",
        "        sample_batch_size=batch_size,\n",
        "        add_sequences=True,\n",
        "        add_batch_size=None,\n",
        "    )\n",
        "    buffer_state = buffer_fn.init(\n",
        "        TimeStep(\n",
        "            observation=obs,\n",
        "            action=jnp.zeros((), dtype=jnp.int32),\n",
        "            reward=jnp.zeros(()),\n",
        "            discount=jnp.zeros(()),\n",
        "        )\n",
        "    )  # initialise buffer state.\n",
        "    epsilon_schedule_fn = optax.linear_schedule(\n",
        "        epsilon_init, epsilon_final, epsilon_steps\n",
        "    )  # define epsilon schedule.\n",
        "    return (\n",
        "        cores_count,\n",
        "        network,\n",
        "        optim,\n",
        "        params,\n",
        "        opt_state,\n",
        "        buffer_fn,\n",
        "        buffer_state,\n",
        "        rng,\n",
        "        epsilon_schedule_fn,\n",
        "    )\n",
        "\n",
        "\n",
        "def get_rng_keys(cores_count, num_envs, rng):\n",
        "    \"\"\"Returns a batch of random number generator keys.\"\"\"\n",
        "    rng, *step_rngs = jax.random.split(rng, cores_count * num_envs + 1)\n",
        "    reshape = lambda x: x.reshape((cores_count, num_envs) + x.shape[1:])\n",
        "    step_rngs = reshape(jnp.stack(step_rngs))  # add dimension to pmap over.\n",
        "    return rng, step_rngs\n",
        "\n",
        "\n",
        "def broadcast_to_device_shape(\n",
        "    cores_count, num_envs, params, opt_state, buffer_state, rng\n",
        "):\n",
        "    \"\"\"Broadcasts parameters to device shape.\"\"\"\n",
        "    broadcast = lambda x: jnp.broadcast_to(x, (cores_count, num_envs) + x.shape)\n",
        "    params = jax.tree_map(broadcast, params)  # broadcast to cores and batch.\n",
        "    opt_state = jax.tree_map(broadcast, opt_state)  # broadcast to cores and batch\n",
        "    buffer_state = jax.tree_map(broadcast, buffer_state)  # broadcast to cores and batch\n",
        "    params_state = Params(\n",
        "        online=params,\n",
        "        target=params,\n",
        "        update_count=jnp.zeros(shape=(cores_count, num_envs)),\n",
        "    )\n",
        "    rng, step_rngs = get_rng_keys(cores_count, num_envs, rng)\n",
        "    return params_state, opt_state, buffer_state, step_rngs, rng"
      ]
    },
    {
      "cell_type": "markdown",
      "metadata": {
        "id": "nLe1Xnpa8rVm"
      },
      "source": [
        "### Create Environment"
      ]
    },
    {
      "cell_type": "code",
      "execution_count": 8,
      "metadata": {
        "id": "03I-zWqV8rVm"
      },
      "outputs": [],
      "source": [
        "# We separate the environment into a training and evaluation environment. Training resets the environment automatically, while evaluation does not.\n",
        "env = jumanji.make(\"Knapsack-v1\")\n",
        "training_env = AutoResetWrapper(env)"
      ]
    },
    {
      "cell_type": "markdown",
      "metadata": {
        "id": "k_Uxq0e_8rVm"
      },
      "source": [
        "### Set up Parameters"
      ]
    },
    {
      "cell_type": "code",
      "execution_count": 9,
      "metadata": {
        "id": "prlhq9Tc8rVm"
      },
      "outputs": [],
      "source": [
        "# Number of Training-Evaluation iterations\n",
        "TRAINING_EVAL_ITERS = 120\n",
        "\n",
        "# Training parameters\n",
        "BATCH_SIZE = 32\n",
        "LEARNING_RATE = 5e-4\n",
        "SEED = 42\n",
        "NUM_ENVS = 8\n",
        "BUFFER_SIZE = 10_000\n",
        "ROLLOUT_LEN = 512\n",
        "SGD_STEPS_PER_ROLLOUT = 64\n",
        "TRAINING_ITERS = 20\n",
        "TARGET_PERIOD = 10\n",
        "AGENT_DISCOUNT = 0.99\n",
        "EPSILON_INIT = 1.0\n",
        "EPSILON_FINAL = 0.1\n",
        "EPSILON_STEPS = 10_000\n",
        "\n",
        "# Evaluation parameters\n",
        "NUM_EVAL_EPISODES = 50"
      ]
    },
    {
      "cell_type": "markdown",
      "metadata": {
        "id": "U89SAavZ8rVm"
      },
      "source": [
        "### Set Up Eval Fns"
      ]
    },
    {
      "cell_type": "code",
      "execution_count": 10,
      "metadata": {
        "id": "ROPHsMlF8rVm",
        "outputId": "5d1d727b-a4f9-4fee-fbbf-28bd98b19ab3"
      },
      "outputs": [
        {
          "name": "stderr",
          "output_type": "stream",
          "text": [
            "c:\\Users\\ryanp\\anaconda3\\lib\\site-packages\\flashbax\\buffers\\trajectory_buffer.py:473: UserWarning: Setting max_size dynamically sets the `max_length_time_axis` to be `max_size`//`add_batch_size = 10000`.This allows one to control exactly how many timesteps are stored in the buffer.Note that this overrides the `max_length_time_axis` argument.\n",
            "  warnings.warn(\n"
          ]
        }
      ],
      "source": [
        "(\n",
        "    cores_count,\n",
        "    network,\n",
        "    optim,\n",
        "    params,\n",
        "    opt_state,\n",
        "    buffer_fn,\n",
        "    buffer_state,\n",
        "    rng,\n",
        "    epsilon_schedule_fn,\n",
        ") = set_up_experiment(\n",
        "    env=training_env,\n",
        "    batch_size=BATCH_SIZE,\n",
        "    step_size=LEARNING_RATE,\n",
        "    seed=SEED,\n",
        "    buffer_size=BUFFER_SIZE,\n",
        "    epsilon_steps=EPSILON_STEPS,\n",
        "    epsilon_init=EPSILON_INIT,\n",
        "    epsilon_final=EPSILON_FINAL,\n",
        ")\n",
        "\n",
        "@jax.jit\n",
        "def eval_one_episode(params, rng):\n",
        "    \"\"\"Evaluates one episode.\"\"\"\n",
        "    state, timestep = env.reset(rng)\n",
        "\n",
        "    def step(val):\n",
        "        params, state, timestep, tot_r, rng, done = val\n",
        "        rng, key_step = jax.random.split(rng)\n",
        "        obs = process_observation(timestep)\n",
        "        q_values = network.apply(params, obs[jnp.newaxis,])\n",
        "        a_t = jnp.argmax(q_values, axis=-1)[0]\n",
        "        state, timestep = env.step(state, a_t)\n",
        "        tot_r += timestep.reward\n",
        "        return (params, state, timestep, tot_r, rng, timestep.last())\n",
        "\n",
        "    params, state, timestep, tot_r, rng, done = jax.lax.while_loop(lambda val : val[5] == False, step, (params, state, timestep, 0, rng, False))\n",
        "\n",
        "    return params, tot_r\n",
        "\n",
        "@jax.jit\n",
        "def eval(params, rng):\n",
        "    \"\"\"Evaluates multiple episodes.\"\"\"\n",
        "    rngs = random.split(rng, NUM_EVAL_EPISODES)\n",
        "    params = jax.tree_map(lambda x: x[0][0], params)\n",
        "    _, tot_r = jax.lax.scan(eval_one_episode, params, rngs)\n",
        "    return tot_r.mean()"
      ]
    },
    {
      "cell_type": "markdown",
      "metadata": {
        "id": "ml7RZq-08rVn"
      },
      "source": [
        "## Perform Training"
      ]
    },
    {
      "cell_type": "code",
      "execution_count": 11,
      "metadata": {
        "id": "dVzEOidU8rVn",
        "outputId": "2d512a20-158d-46b1-e940-8e06056e3ca4"
      },
      "outputs": [
        {
          "data": {
            "application/vnd.jupyter.widget-view+json": {
              "model_id": "64d0db61c79f4cc5960544661e13cf09",
              "version_major": 2,
              "version_minor": 0
            },
            "text/plain": [
              "  0%|          | 0/120 [00:00<?, ?it/s]"
            ]
          },
          "metadata": {},
          "output_type": "display_data"
        },
        {
          "name": "stdout",
          "output_type": "stream",
          "text": [
            "Average Reward at iteration 0: 10.250849723815918\n",
            "Average Reward at iteration 2: 12.096577644348145\n",
            "Average Reward at iteration 4: 12.316450119018555\n",
            "Average Reward at iteration 6: 12.766804695129395\n",
            "Average Reward at iteration 8: 10.79054069519043\n",
            "Average Reward at iteration 10: 6.291939735412598\n",
            "Average Reward at iteration 12: 3.5135042667388916\n",
            "Average Reward at iteration 14: 4.73417329788208\n",
            "Average Reward at iteration 16: 6.840462684631348\n",
            "Average Reward at iteration 18: 8.478536605834961\n",
            "Average Reward at iteration 20: 10.57279109954834\n",
            "Average Reward at iteration 22: 11.598503112792969\n",
            "Average Reward at iteration 24: 10.78607177734375\n",
            "Average Reward at iteration 26: 11.516176223754883\n",
            "Average Reward at iteration 28: 12.19408893585205\n",
            "Average Reward at iteration 30: 11.384050369262695\n",
            "Average Reward at iteration 32: 12.595398902893066\n",
            "Average Reward at iteration 34: 12.621078491210938\n",
            "Average Reward at iteration 36: 12.863283157348633\n",
            "Average Reward at iteration 38: 13.00090217590332\n",
            "Average Reward at iteration 40: 12.991718292236328\n",
            "Average Reward at iteration 42: 12.380573272705078\n",
            "Average Reward at iteration 44: 13.123697280883789\n",
            "Average Reward at iteration 46: 12.79259204864502\n",
            "Average Reward at iteration 48: 12.409242630004883\n",
            "Average Reward at iteration 50: 13.340580940246582\n",
            "Average Reward at iteration 52: 13.150768280029297\n",
            "Average Reward at iteration 54: 12.860519409179688\n",
            "Average Reward at iteration 56: 13.304366111755371\n",
            "Average Reward at iteration 58: 12.749442100524902\n",
            "Average Reward at iteration 60: 13.388481140136719\n",
            "Average Reward at iteration 62: 12.93737506866455\n",
            "Average Reward at iteration 64: 13.716352462768555\n",
            "Average Reward at iteration 66: 12.856696128845215\n",
            "Average Reward at iteration 68: 13.667500495910645\n",
            "Average Reward at iteration 70: 13.308761596679688\n",
            "Average Reward at iteration 72: 13.554043769836426\n",
            "Average Reward at iteration 74: 13.795144081115723\n",
            "Average Reward at iteration 76: 14.513046264648438\n",
            "Average Reward at iteration 78: 13.592206954956055\n",
            "Average Reward at iteration 80: 14.408577919006348\n",
            "Average Reward at iteration 82: 14.095662117004395\n",
            "Average Reward at iteration 84: 13.884936332702637\n",
            "Average Reward at iteration 86: 14.259221076965332\n",
            "Average Reward at iteration 88: 14.003214836120605\n",
            "Average Reward at iteration 90: 13.36888599395752\n",
            "Average Reward at iteration 92: 14.231412887573242\n",
            "Average Reward at iteration 94: 13.416698455810547\n",
            "Average Reward at iteration 96: 14.526789665222168\n",
            "Average Reward at iteration 98: 14.143210411071777\n",
            "Average Reward at iteration 100: 14.23448371887207\n",
            "Average Reward at iteration 102: 13.671012878417969\n",
            "Average Reward at iteration 104: 14.164735794067383\n",
            "Average Reward at iteration 106: 14.355278968811035\n",
            "Average Reward at iteration 108: 13.890878677368164\n",
            "Average Reward at iteration 110: 13.977933883666992\n",
            "Average Reward at iteration 112: 14.233281135559082\n",
            "Average Reward at iteration 114: 13.668371200561523\n",
            "Average Reward at iteration 116: 14.093483924865723\n",
            "Average Reward at iteration 118: 13.358734130859375\n"
          ]
        }
      ],
      "source": [
        "rng, *env_rngs = jax.random.split(rng, cores_count * NUM_ENVS + 1)\n",
        "env_states, env_timesteps = jax.vmap(env.reset)(jnp.stack(env_rngs))  # init envs.\n",
        "reshape = lambda x: x.reshape((cores_count, NUM_ENVS) + x.shape[1:])\n",
        "env_states = jax.tree_map(reshape, env_states)  # add dimension to pmap over.\n",
        "env_timesteps = jax.tree_map(reshape, env_timesteps)  # add dimension to pmap over.\n",
        "params_state, opt_state, buffer_state, step_rngs, rng = broadcast_to_device_shape(\n",
        "    cores_count, NUM_ENVS, params, opt_state, buffer_state, rng\n",
        ")\n",
        "\n",
        "learn = get_learner_fn(\n",
        "    env=training_env,\n",
        "    forward_pass=network.apply,\n",
        "    buffer_fn=buffer_fn,\n",
        "    opt_update=optim.update,\n",
        "    rollout_len=ROLLOUT_LEN,\n",
        "    agent_discount=AGENT_DISCOUNT,\n",
        "    iterations=TRAINING_ITERS,\n",
        "    target_period=TARGET_PERIOD,\n",
        "    epsilon_schedule_fn=epsilon_schedule_fn,\n",
        "    sgd_steps_per_rollout=SGD_STEPS_PER_ROLLOUT,\n",
        ")\n",
        "learn = jax.pmap(learn, axis_name=\"i\")  # replicate over multiple cores.\n",
        "\n",
        "\n",
        "avg_reward = []\n",
        "total_time = 0\n",
        "for training_eval_iters in tqdm(range(TRAINING_EVAL_ITERS)):\n",
        "    # Train\n",
        "    start = timeit.default_timer()\n",
        "    params_state, buffer_state, opt_state, step_rngs, env_states, env_timesteps = learn(params_state, buffer_state, opt_state, step_rngs, env_states, env_timesteps)\n",
        "    params_state = jax.tree_map(lambda x: x.block_until_ready(), params_state) # wait for params to be ready so time is accurate.\n",
        "    total_time += timeit.default_timer() - start\n",
        "    # Eval\n",
        "    rng, eval_rng = jax.random.split(rng, num=2)\n",
        "    tot_r = eval(params_state.online, eval_rng)\n",
        "    avg_reward.append(tot_r)\n",
        "    if training_eval_iters % 2 == 0:\n",
        "        print(f\"Average Reward at iteration {training_eval_iters}: {tot_r}\")"
      ]
    },
    {
      "cell_type": "markdown",
      "metadata": {
        "id": "CJOLnm158rVn"
      },
      "source": [
        "## Plot Evaluation Results"
      ]
    },
    {
      "cell_type": "code",
      "execution_count": 13,
      "metadata": {
        "id": "64YyUGSh8rVn",
        "outputId": "9d10fc7e-1ef6-426d-a6f8-69fad8773446"
      },
      "outputs": [
        {
          "data": {
            "image/png": "[encoded data removed]",
            "text/plain": [
              "<Figure size 576x432 with 1 Axes>"
            ]
          },
          "metadata": {},
          "output_type": "display_data"
        }
      ],
      "source": [
        "%matplotlib inline\n",
        "sns.set(style=\"whitegrid\")\n",
        "\n",
        "num_env_transitions = ROLLOUT_LEN*TRAINING_ITERS*TRAINING_EVAL_ITERS\n",
        "x_values = np.asarray(jnp.arange(0, num_env_transitions, num_env_transitions/len(avg_reward)))\n",
        "avg_reward = np.asarray(avg_reward)\n",
        "\n",
        "plt.figure(figsize=(8,6))\n",
        "sns.lineplot(x=x_values, y=avg_reward)\n",
        "plt.xlabel('Environment Transitions')\n",
        "plt.ylabel('Average Reward')\n",
        "plt.title(f'DQN on Knapsack-v1 - training time: {np.round((total_time)/60, 2)} minutes')\n",
        "\n",
        "plt.tight_layout()\n",
        "plt.show()"
      ]
    }
  ],
  "metadata": {
    "colab": {
      "provenance": []
    },
    "kernelspec": {
      "display_name": "v_flash",
      "language": "python",
      "name": "python3"
    },
    "language_info": {
      "codemirror_mode": {
        "name": "ipython",
        "version": 3
      },
      "file_extension": ".py",
      "mimetype": "text/x-python",
      "name": "python",
      "nbconvert_exporter": "python",
      "pygments_lexer": "ipython3",
      "version": "3.9.12"
    }
  },
  "nbformat": 4,
  "nbformat_minor": 0
}
